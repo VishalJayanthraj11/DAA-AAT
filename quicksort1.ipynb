{
  "nbformat": 4,
  "nbformat_minor": 0,
  "metadata": {
    "colab": {
      "provenance": []
    },
    "kernelspec": {
      "name": "python3",
      "display_name": "Python 3"
    },
    "language_info": {
      "name": "python"
    }
  },
  "cells": [
    {
      "cell_type": "code",
      "execution_count": null,
      "metadata": {
        "id": "VV-3ERCge0HQ"
      },
      "outputs": [],
      "source": [
        "def partition_array(size, array):\n",
        "    arr = list(map(int, array))  # Convert array elements to integers\n",
        "    p = arr[0]  # Choose the first element as pivot\n",
        "    less = [x for x in arr if x < p]  # Collect elements less than pivot\n",
        "    more = [x for x in arr if x >= p]  # Collect elements greater than or equal to pivot\n",
        "    return less + more\n",
        "\n",
        "if __name__ == '__main__':\n",
        "    size = int(input())\n",
        "    array = input().split()\n",
        "    result = partition_array(size, array)\n",
        "    print(' '.join(map(str, result)))\n"
      ]
    }
  ]
}