{
  "nbformat": 4,
  "nbformat_minor": 0,
  "metadata": {
    "colab": {
      "provenance": []
    },
    "kernelspec": {
      "name": "python3",
      "display_name": "Python 3"
    },
    "language_info": {
      "name": "python"
    }
  },
  "cells": [
    {
      "cell_type": "code",
      "execution_count": null,
      "metadata": {
        "id": "ACtEUn19fHap"
      },
      "outputs": [],
      "source": [
        "from collections import Counter\n",
        "\n",
        "def stringConstruction(s):\n",
        "    char_count = Counter(s)\n",
        "    return len(char_count)\n",
        "\n",
        "if __name__ == '__main__':\n",
        "    n = int(input().strip())\n",
        "    for _ in range(n):\n",
        "        s = input().strip()\n",
        "        result = stringConstruction(s)\n",
        "        print(result)\n"
      ]
    }
  ]
}