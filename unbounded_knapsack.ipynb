{
  "nbformat": 4,
  "nbformat_minor": 0,
  "metadata": {
    "colab": {
      "provenance": []
    },
    "kernelspec": {
      "name": "python3",
      "display_name": "Python 3"
    },
    "language_info": {
      "name": "python"
    }
  },
  "cells": [
    {
      "cell_type": "code",
      "source": [
        "def unboundedKnapsack(k, arr):\n",
        "    dp = [0] * (k + 1)\n",
        "    for item in arr:\n",
        "        for j in range(item, k + 1):\n",
        "            dp[j] = max(dp[j], dp[j - item] + item)\n",
        "    return dp[k]\n",
        "if __name__ == '__main__':\n",
        "    t = int(input().strip())\n",
        "    for _ in range(t):\n",
        "        first_multiple_input = input().rstrip().split()\n",
        "        n = int(first_multiple_input[0])  # This is n, the number of items; not used in the function\n",
        "        k = int(first_multiple_input[1])  # This is the capacity of the knapsack\n",
        "        arr = list(map(int, input().rstrip().split()))  # List of item values; not used in the function\n",
        "        result = unboundedKnapsack(k, arr)\n",
        "        print(result)\n"
      ],
      "metadata": {
        "id": "EbjW4TAGdpmx"
      },
      "execution_count": null,
      "outputs": []
    }
  ]
}